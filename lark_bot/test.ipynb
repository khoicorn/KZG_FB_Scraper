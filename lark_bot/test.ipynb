{
 "cells": [
  {
   "cell_type": "code",
   "execution_count": 1,
   "id": "06a63015",
   "metadata": {},
   "outputs": [],
   "source": [
    "import os\n",
    "from dotenv import load_dotenv\n",
    "\n",
    "load_dotenv(override=True)\n",
    "\n",
    "# Load from .env or environment variables\n",
    "APP_ID = os.getenv(\"LARK_APP_ID\")\n",
    "APP_SECRET = os.getenv(\"LARK_APP_SECRET\")\n",
    "VERIFICATION_TOKEN = os.getenv(\"VERIFICATION_TOKEN\")\n"
   ]
  },
  {
   "cell_type": "code",
   "execution_count": 2,
   "id": "c7f47156",
   "metadata": {},
   "outputs": [
    {
     "data": {
      "text/plain": [
       "'ozb776FMRxgaF55SDpURbeBW7LIWpVBx'"
      ]
     },
     "execution_count": 2,
     "metadata": {},
     "output_type": "execute_result"
    }
   ],
   "source": [
    "APP_SECRET"
   ]
  },
  {
   "cell_type": "code",
   "execution_count": null,
   "id": "27014248",
   "metadata": {},
   "outputs": [],
   "source": []
  }
 ],
 "metadata": {
  "kernelspec": {
   "display_name": "Python 3",
   "language": "python",
   "name": "python3"
  },
  "language_info": {
   "codemirror_mode": {
    "name": "ipython",
    "version": 3
   },
   "file_extension": ".py",
   "mimetype": "text/x-python",
   "name": "python",
   "nbconvert_exporter": "python",
   "pygments_lexer": "ipython3",
   "version": "3.12.0"
  }
 },
 "nbformat": 4,
 "nbformat_minor": 5
}
